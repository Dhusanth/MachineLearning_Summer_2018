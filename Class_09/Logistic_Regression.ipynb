{
 "cells": [
  {
   "cell_type": "code",
   "execution_count": 1,
   "metadata": {},
   "outputs": [],
   "source": [
    "import numpy as np\n",
    "from matplotlib import pyplot as plt\n",
    "%matplotlib inline"
   ]
  },
  {
   "cell_type": "markdown",
   "metadata": {},
   "source": [
    "# Data Generation"
   ]
  },
  {
   "cell_type": "code",
   "execution_count": 24,
   "metadata": {},
   "outputs": [
    {
     "name": "stdout",
     "output_type": "stream",
     "text": [
      "(500, 2)\n",
      "(500, 2)\n"
     ]
    }
   ],
   "source": [
    "mean1 = np.array([0.5 , 0.5])\n",
    "mean2 = np.array([3.0 , 3.0])\n",
    "\n",
    "cov1 = np.array([[1.0 , 0.2] , [0.2 , 1.1]])\n",
    "cov2 = np.array([[1.0 , 0.3] , [0.3 , 1.1]])\n",
    "\n",
    "dist1 = np.random.multivariate_normal(mean1 , cov1 , 500)\n",
    "dist2 = np.random.multivariate_normal(mean2 , cov2 , 500)\n",
    "\n",
    "print dist1.shape\n",
    "print dist2.shape"
   ]
  },
  {
   "cell_type": "code",
   "execution_count": 25,
   "metadata": {},
   "outputs": [
    {
     "data": {
      "text/plain": [
       "<matplotlib.collections.PathCollection at 0x1068a5790>"
      ]
     },
     "execution_count": 25,
     "metadata": {},
     "output_type": "execute_result"
    },
    {
     "data": {
      "image/png": "[encoded data removed]",
      "text/plain": [
       "<Figure size 432x288 with 1 Axes>"
      ]
     },
     "metadata": {},
     "output_type": "display_data"
    }
   ],
   "source": [
    "plt.scatter(dist1[: , 0] , dist1[: , 1])\n",
    "plt.scatter(dist2[: , 0] , dist2[: , 1])"
   ]
  },
  {
   "cell_type": "code",
   "execution_count": 26,
   "metadata": {},
   "outputs": [
    {
     "name": "stdout",
     "output_type": "stream",
     "text": [
      "(1000, 3)\n"
     ]
    }
   ],
   "source": [
    "rows = dist1.shape[0] + dist2.shape[0]\n",
    "cols = dist1.shape[1] + 1\n",
    "\n",
    "data = np.zeros((rows , cols))\n",
    "print data.shape\n",
    "\n",
    "data[:dist1.shape[0] , :dist1.shape[1]] = dist1\n",
    "data[dist1.shape[0] : , :dist2.shape[1]] = dist2\n",
    "#dist1.shape[1] = dist2.shape[1] as number of columns are same\n",
    "data[dist1.shape[0]: rows ,-1] = 1.0#-1 is last column\n",
    "\n",
    "#Or we concatenate too"
   ]
  },
  {
   "cell_type": "code",
   "execution_count": 27,
   "metadata": {},
   "outputs": [
    {
     "name": "stdout",
     "output_type": "stream",
     "text": [
      "[[ 2.61960577  3.73978919  1.        ]\n",
      " [ 3.53420953  1.81656725  1.        ]\n",
      " [ 2.26173381  3.03587783  1.        ]\n",
      " [ 3.16738185  2.78720257  1.        ]\n",
      " [ 0.12230618  0.02233826  0.        ]\n",
      " [-0.20460707  0.73369299  0.        ]\n",
      " [ 3.93389352  5.03865667  1.        ]\n",
      " [ 2.66969059  2.56424666  1.        ]\n",
      " [ 0.38404308 -0.49372243  0.        ]\n",
      " [-0.28062412 -0.8322514   0.        ]]\n"
     ]
    }
   ],
   "source": [
    "np.random.shuffle(data)#Doesn't return something it just shuffles the data\n",
    "print data[:10]"
   ]
  },
  {
   "cell_type": "markdown",
   "metadata": {},
   "source": [
    "# Data Splitting"
   ]
  },
  {
   "cell_type": "code",
   "execution_count": 28,
   "metadata": {},
   "outputs": [
    {
     "name": "stdout",
     "output_type": "stream",
     "text": [
      "(750, 2)\n",
      "(250, 2)\n",
      "-------------------------\n",
      "(750,)\n",
      "(250,)\n"
     ]
    }
   ],
   "source": [
    "split = int(0.75*data.shape[0])\n",
    "#print split\n",
    "X_train = data[:split , :-1]#all columns except the last\n",
    "y_train = data[:split , -1]#only last column\n",
    "\n",
    "X_test = data[split: , :-1]\n",
    "y_test = data[split: , -1]\n",
    "\n",
    "print X_train.shape\n",
    "print X_test.shape\n",
    "\n",
    "print '-'*25\n",
    "\n",
    "print y_train.shape\n",
    "print y_test.shape"
   ]
  },
  {
   "cell_type": "markdown",
   "metadata": {},
   "source": [
    "# Functions"
   ]
  },
  {
   "cell_type": "code",
   "execution_count": 29,
   "metadata": {},
   "outputs": [
    {
     "data": {
      "text/plain": [
       "'\\ninstead of if else we can simply write this::-->>\\n\\n-(ylog(y^) + (1-y)log(1 - y^))\\n\\ncoz when suppose y=0 then 1st term willbe zero and only seconf term will be calculated\\nand\\nwhen y=1 then second term will be zero so only first term will be calculated\\n\\n'"
      ]
     },
     "execution_count": 29,
     "metadata": {},
     "output_type": "execute_result"
    }
   ],
   "source": [
    "#sigmoid translates into probability\n",
    "#In binary classification we use cost function of cost entrpy\n",
    "\n",
    "#Sigmoid function for translating the output b/w 0 to 1\n",
    "def sigmoid(z):\n",
    "    sig = 1.0 / (1 + np.exp(-1*z))\n",
    "    return sig\n",
    "\n",
    "#Hypothesis function is just sigmoid applied to y predicted\n",
    "def hypothesis(x_sample , w , b):\n",
    "    h = (x_sample*w).sum() + b\n",
    "    return sigmoid(h)\n",
    "\n",
    "#Getting error\n",
    "def get_error(x , w , y , b):\n",
    "    error = 0.0\n",
    "    m = x.shape[0]\n",
    "    \n",
    "    for i in range(m):\n",
    "        if y[i] == 0:\n",
    "            #print hypothesis(x[i] ,w ,b)\n",
    "            \n",
    "            add_term = -1 * (np.log(1 - hypothesis(x[i] , w , b)))\n",
    "            error = error + add_term\n",
    "        \n",
    "        else:\n",
    "            add_term = -1 * (np.log(hypothesis(x[i] , w , b)))\n",
    "            error = error + add_term\n",
    "            \n",
    "        # -ve sign is appied to just symbolising that large error is large\n",
    "        # in short we can say -vesign is being applied due to the log only\n",
    "    error = error/m\n",
    "    return error\n",
    "'''\n",
    "instead of if else we can simply write this::-->>\n",
    "\n",
    "-(ylog(y^) + (1-y)log(1 - y^))\n",
    "\n",
    "coz when suppose y=0 then 1st term willbe zero and only seconf term will be calculated\n",
    "and\n",
    "when y=1 then second term will be zero so only first term will be calculated\n",
    "\n",
    "'''\n",
    "\n",
    "    "
   ]
  },
  {
   "cell_type": "code",
   "execution_count": null,
   "metadata": {},
   "outputs": [],
   "source": []
  },
  {
   "cell_type": "code",
   "execution_count": 30,
   "metadata": {},
   "outputs": [],
   "source": [
    "def get_gradients(x , w , y , b):\n",
    "    \n",
    "    grad_w = np.zeros(w.shape[0])#creating a 2d matrix of zeros in this case 2x2\n",
    "    grad_b = 0\n",
    "    \n",
    "    m = x.shape[0]\n",
    "    for i in range(m):\n",
    "        grad_w = grad_w + (hypothesis(x[i] , w , b) - y[i])*x[i]#matrix multiplication\n",
    "        grad_b = grad_b + (hypothesis(x[i] , w , b) - y[i])*1\n",
    "        \n",
    "    #grad_w = grad_w/m\n",
    "    #grad_b = grad_b/m\n",
    "        \n",
    "    return [grad_w , grad_b]"
   ]
  },
  {
   "cell_type": "code",
   "execution_count": 31,
   "metadata": {},
   "outputs": [],
   "source": [
    "def optimizer(x , w , y , b , learning_rate = 0.001):\n",
    "    \n",
    "    error = get_error(x , w , y , b)\n",
    "    \n",
    "    [grad_w , grad_b] = get_gradients(x , w , y , b)\n",
    "    \n",
    "    b = b - learning_rate*grad_b\n",
    "    w = w - learning_rate*grad_w\n",
    "    \n",
    "    return error , w , b\n"
   ]
  },
  {
   "cell_type": "code",
   "execution_count": 32,
   "metadata": {},
   "outputs": [],
   "source": [
    "def logistic_regression(X_train , y_train , nb_epochs = 2 , learning_rate = 0.0001 ):\n",
    "    \n",
    "    loss = []\n",
    "    \n",
    "    #Parameter Initialisation\n",
    "    \n",
    "    W = np.array([0.3 , 0.2])\n",
    "    b = 3.6\n",
    "    \n",
    "    \n",
    "    for i in range(nb_epochs):\n",
    "        \n",
    "        error , W , b = optimizer(X_train , W , y_train , b , learning_rate)\n",
    "        loss.append(error)\n",
    "        \n",
    "    W_final = W\n",
    "    b_final = b\n",
    "    \n",
    "    return loss , W_final , b_final\n",
    "    "
   ]
  },
  {
   "cell_type": "code",
   "execution_count": 33,
   "metadata": {},
   "outputs": [
    {
     "name": "stdout",
     "output_type": "stream",
     "text": [
      "[1.23291323 1.04268566] -3.7232022524050534\n"
     ]
    }
   ],
   "source": [
    "loss , weights , bias = logistic_regression(X_train , y_train , nb_epochs=100 , learning_rate = 0.001)\n",
    "print weights , bias"
   ]
  },
  {
   "cell_type": "code",
   "execution_count": 34,
   "metadata": {},
   "outputs": [
    {
     "data": {
      "image/png": "[encoded data removed]",
      "text/plain": [
       "<Figure size 432x288 with 1 Axes>"
      ]
     },
     "metadata": {},
     "output_type": "display_data"
    }
   ],
   "source": [
    "plt.plot(loss)\n",
    "plt.show()\n",
    "#print loss"
   ]
  },
  {
   "cell_type": "markdown",
   "metadata": {},
   "source": [
    "# Accuracy function"
   ]
  },
  {
   "cell_type": "code",
   "execution_count": 44,
   "metadata": {},
   "outputs": [
    {
     "name": "stdout",
     "output_type": "stream",
     "text": [
      "-------------------------\n",
      "94.4 %\n"
     ]
    }
   ],
   "source": [
    "pred = []\n",
    "a = X_test.shape[0]\n",
    "acc = 0\n",
    "for i in range(a):\n",
    "    y = hypothesis(X_test[i] , weights , bias)\n",
    "    if y>0.5:\n",
    "        k = 1\n",
    "    else:\n",
    "        k = 0\n",
    "    pred.append(k)\n",
    "#print pred\n",
    "print '-'*25\n",
    "#print (pred==y_test).sum()/y_test.shape\n",
    "for i in range(y_test.shape[0]):\n",
    "    if pred[i] == y_test[i]:\n",
    "        acc += 1\n",
    "    else:\n",
    "        pass\n",
    "print (float(acc)/y_test.shape[0])*100 , '%'"
   ]
  },
  {
   "cell_type": "markdown",
   "metadata": {},
   "source": [
    "# LogisticRegression from SK-Learn Model"
   ]
  },
  {
   "cell_type": "code",
   "execution_count": 47,
   "metadata": {},
   "outputs": [],
   "source": [
    "'''Sk learn model is also linear model \n",
    "it fails for non linear model like circular model '''\n",
    "from sklearn.linear_model import LogisticRegression"
   ]
  },
  {
   "cell_type": "code",
   "execution_count": 42,
   "metadata": {},
   "outputs": [
    {
     "data": {
      "text/plain": [
       "LogisticRegression(C=1.0, class_weight=None, dual=False, fit_intercept=True,\n",
       "          intercept_scaling=1, max_iter=100, multi_class='ovr', n_jobs=1,\n",
       "          penalty='l2', random_state=None, solver='liblinear', tol=0.0001,\n",
       "          verbose=0, warm_start=False)"
      ]
     },
     "execution_count": 42,
     "metadata": {},
     "output_type": "execute_result"
    }
   ],
   "source": [
    "lr = LogisticRegression()\n",
    "\n",
    "lr.fit(X_train , y_train)"
   ]
  },
  {
   "cell_type": "code",
   "execution_count": 45,
   "metadata": {},
   "outputs": [
    {
     "name": "stdout",
     "output_type": "stream",
     "text": [
      "94.8 %\n"
     ]
    }
   ],
   "source": [
    "print lr.score(X_test , y_test)*100 , '%'"
   ]
  },
  {
   "cell_type": "code",
   "execution_count": null,
   "metadata": {},
   "outputs": [],
   "source": []
  }
 ],
 "metadata": {
  "kernelspec": {
   "display_name": "Python 2",
   "language": "python",
   "name": "python2"
  },
  "language_info": {
   "codemirror_mode": {
    "name": "ipython",
    "version": 2
   },
   "file_extension": ".py",
   "mimetype": "text/x-python",
   "name": "python",
   "nbconvert_exporter": "python",
   "pygments_lexer": "ipython2",
   "version": "2.7.15"
  }
 },
 "nbformat": 4,
 "nbformat_minor": 2
}
