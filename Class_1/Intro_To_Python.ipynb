{
 "cells": [
  {
   "cell_type": "code",
   "execution_count": 1,
   "metadata": {},
   "outputs": [
    {
     "name": "stdout",
     "output_type": "stream",
     "text": [
      "<type 'int'>\n",
      "<type 'str'>\n",
      "<type 'float'>\n"
     ]
    }
   ],
   "source": [
    "#Variables\n",
    "\n",
    "a = 55\n",
    "print type(a)\n",
    "b = 'Rupali'\n",
    "print type(b)\n",
    "c = 10.05\n",
    "print type(c)\n"
   ]
  },
  {
   "cell_type": "code",
   "execution_count": 2,
   "metadata": {},
   "outputs": [
    {
     "name": "stdout",
     "output_type": "stream",
     "text": [
      "11\n"
     ]
    }
   ],
   "source": [
    "a = 5\n",
    "b=6\n",
    "print a+b\n"
   ]
  },
  {
   "cell_type": "code",
   "execution_count": 3,
   "metadata": {},
   "outputs": [
    {
     "name": "stdout",
     "output_type": "stream",
     "text": [
      "<type 'float'>\n"
     ]
    }
   ],
   "source": [
    " a = 5\n",
    "b = 10.05\n",
    "\n",
    "print type(a+b)"
   ]
  },
  {
   "cell_type": "code",
   "execution_count": 4,
   "metadata": {},
   "outputs": [
    {
     "name": "stdout",
     "output_type": "stream",
     "text": [
      "4\n"
     ]
    }
   ],
   "source": [
    "a = 2**2\n",
    "print a\n"
   ]
  },
  {
   "cell_type": "code",
   "execution_count": 5,
   "metadata": {},
   "outputs": [
    {
     "name": "stdout",
     "output_type": "stream",
     "text": [
      "I am a boy\n"
     ]
    }
   ],
   "source": [
    "#String Concatenation\n",
    "a = 'I'\n",
    "b = 'am'\n",
    "c = 'a boy'\n",
    "\n",
    "d = a+\" \" + b + \" \"+c\n",
    "print d"
   ]
  },
  {
   "cell_type": "code",
   "execution_count": 6,
   "metadata": {},
   "outputs": [
    {
     "name": "stdout",
     "output_type": "stream",
     "text": [
      "[1, 'a', 10.05]\n",
      "3\n",
      "[1, 'a', 10.05, 'abc']\n",
      "[1, 55, 'a', 10.05, 'abc']\n",
      "[]\n",
      "[]\n",
      "[1, 2, 3, 4, 5, 6]\n",
      "[1, 2, 3, [4, 5, 6]]\n"
     ]
    }
   ],
   "source": [
    "#Lists\n",
    "l = [1, 'a', 10.05]\n",
    "print l\n",
    "\n",
    "print len(l)\n",
    "\n",
    "l.append('abc')\n",
    "print l\n",
    "l.insert(1,55)\n",
    "print l\n",
    "\n",
    "l=[]\n",
    "print l\n",
    "l = list()\n",
    "print l\n",
    "\n",
    "l1 = [1,2,3]\n",
    "l2 = [4,5,6]\n",
    "l3 = l1 + l2\n",
    "print l3\n",
    "\n",
    "l1 = [1,2,3,[4,5,6]]\n",
    "print l1\n"
   ]
  },
  {
   "cell_type": "code",
   "execution_count": 7,
   "metadata": {},
   "outputs": [
    {
     "name": "stdout",
     "output_type": "stream",
     "text": [
      "3\n",
      "[3, 4, 5]\n",
      "[1, 3, 5]\n",
      "6\n",
      "[6, 5, 4, 3, 2, 1]\n"
     ]
    }
   ],
   "source": [
    "l = [1,2,3,4,5,6]\n",
    "print l[2]\n",
    "\n",
    "print l[2:5]\n",
    "\n",
    "#syntax \n",
    "#list_name[start:(end+1):skip]\n",
    "print l[:5:2]\n",
    "\n",
    "print l[-1]\n",
    "\n",
    "#reverse order\n",
    "print l[::-1]\n"
   ]
  },
  {
   "cell_type": "code",
   "execution_count": 8,
   "metadata": {},
   "outputs": [
    {
     "name": "stdout",
     "output_type": "stream",
     "text": [
      "{'a': 1, 'b': 2, 'z': 26}\n",
      "{'a': 1, 'c': 3, 'b': 2, 'z': 26}\n",
      "['a', 'c', 'b', 'z']\n",
      "[1, 3, 2, 26]\n"
     ]
    }
   ],
   "source": [
    "#Dictionary\n",
    "d = {'a':1, 'b':2, 'z':26}\n",
    "print d\n",
    "\n",
    "d['c'] = 3\n",
    "print d\n",
    "\n",
    "print d.keys()\n",
    "print d.values()\n"
   ]
  },
  {
   "cell_type": "code",
   "execution_count": 9,
   "metadata": {},
   "outputs": [
    {
     "name": "stdout",
     "output_type": "stream",
     "text": [
      "[0, 1, 2, 3, 4, 5, 6, 7, 8, 9]\n",
      "[2, 3, 4, 5, 6, 7, 8, 9]\n",
      "[2, 4, 6, 8]\n"
     ]
    }
   ],
   "source": [
    "#Range\n",
    "a = range(10)\n",
    "print a\n",
    "\n",
    "b = range(2,10)\n",
    "print b\n",
    "\n",
    "c = range(2,10,2)\n",
    "print c\n"
   ]
  },
  {
   "cell_type": "code",
   "execution_count": 10,
   "metadata": {},
   "outputs": [
    {
     "name": "stdout",
     "output_type": "stream",
     "text": [
      "2\n",
      "5\n",
      "8\n",
      "11\n",
      "14\n"
     ]
    }
   ],
   "source": [
    "#Loops\n",
    "\n",
    "for i in range(2,15,3):\n",
    "    print i\n"
   ]
  },
  {
   "cell_type": "code",
   "execution_count": 11,
   "metadata": {},
   "outputs": [
    {
     "name": "stdout",
     "output_type": "stream",
     "text": [
      "2\n",
      "3\n",
      "4\n",
      "5\n"
     ]
    }
   ],
   "source": [
    "i = 2\n",
    "while i<6:\n",
    "    print i\n",
    "    i += 1\n"
   ]
  },
  {
   "cell_type": "code",
   "execution_count": 12,
   "metadata": {},
   "outputs": [
    {
     "name": "stdout",
     "output_type": "stream",
     "text": [
      "2\n",
      "3\n",
      "4\n",
      "5\n"
     ]
    }
   ],
   "source": [
    "i = 2\n",
    "while True:\n",
    "    print i\n",
    "    \n",
    "    \n",
    "    if i==5:\n",
    "        break\n",
    "    i+=1\n"
   ]
  },
  {
   "cell_type": "code",
   "execution_count": 13,
   "metadata": {},
   "outputs": [
    {
     "name": "stdout",
     "output_type": "stream",
     "text": [
      "set([])\n",
      "set([10])\n"
     ]
    }
   ],
   "source": [
    "#Sets\n",
    "x = set()\n",
    "print x\n",
    "\n",
    "x.add(10)\n",
    "print x\n"
   ]
  },
  {
   "cell_type": "code",
   "execution_count": 14,
   "metadata": {},
   "outputs": [
    {
     "name": "stdout",
     "output_type": "stream",
     "text": [
      "4\n"
     ]
    },
    {
     "data": {
      "text/plain": [
       "5"
      ]
     },
     "execution_count": 14,
     "metadata": {},
     "output_type": "execute_result"
    }
   ],
   "source": [
    "#Functions\n",
    "\n",
    "def add(a,b):\n",
    "    print a**2\n",
    "    return a+b\n",
    "\n",
    "add(2,3)\n"
   ]
  },
  {
   "cell_type": "code",
   "execution_count": 16,
   "metadata": {},
   "outputs": [
    {
     "name": "stdout",
     "output_type": "stream",
     "text": [
      "<type 'tuple'>\n",
      "<type 'dict'>\n",
      "5\n",
      "<type 'tuple'>\n",
      "<type 'dict'>\n",
      "26\n"
     ]
    }
   ],
   "source": [
    "#Argumenst and Keyword Arguments\n",
    "\n",
    "def add(a1, b1, *args, **kwargs):\n",
    "    ret_sum = a1 + b1\n",
    "    print type(args)\n",
    "    print type(kwargs)\n",
    "    \n",
    "    for i in args:\n",
    "        ret_sum += i\n",
    "    \n",
    "    for i in kwargs.values():\n",
    "        ret_sum += i\n",
    "        \n",
    "    return ret_sum\n",
    "    \n",
    "    \n",
    "print add(2,3)\n",
    "print add(5,6,3,8,b=1,c=3)\n"
   ]
  },
  {
   "cell_type": "code",
   "execution_count": 17,
   "metadata": {},
   "outputs": [
    {
     "data": {
      "text/plain": [
       "'\\nThis\\nis a \\nparagraph comment\\n'"
      ]
     },
     "execution_count": 17,
     "metadata": {},
     "output_type": "execute_result"
    }
   ],
   "source": [
    "#This is a line comment\n",
    "\n",
    "'''\n",
    "This\n",
    "is a \n",
    "paragraph comment\n",
    "'''\n"
   ]
  },
  {
   "cell_type": "code",
   "execution_count": 18,
   "metadata": {},
   "outputs": [
    {
     "name": "stdout",
     "output_type": "stream",
     "text": [
      "7.0\n"
     ]
    }
   ],
   "source": [
    "#Packages and Imports\n",
    "import math \n",
    "\n",
    "a = math.sqrt(49)\n",
    "print a\n"
   ]
  },
  {
   "cell_type": "code",
   "execution_count": 19,
   "metadata": {},
   "outputs": [
    {
     "name": "stdout",
     "output_type": "stream",
     "text": [
      "7.0\n"
     ]
    }
   ],
   "source": [
    "from math import *\n",
    "a = sqrt(49)\n",
    "print a\n"
   ]
  },
  {
   "cell_type": "code",
   "execution_count": 20,
   "metadata": {},
   "outputs": [],
   "source": [
    "from math import sqrt\n"
   ]
  },
  {
   "cell_type": "code",
   "execution_count": 21,
   "metadata": {},
   "outputs": [],
   "source": [
    "import math as mth\n"
   ]
  },
  {
   "cell_type": "code",
   "execution_count": 22,
   "metadata": {},
   "outputs": [],
   "source": [
    "#Classes and Objects\n",
    "\n",
    "class Employee:\n",
    "    empCount = 0\n",
    "    \n",
    "    def __init__(self, name, salary, age):\n",
    "        self.name = name\n",
    "        self.salary = salary\n",
    "        self.age = age\n",
    "        Employee.empCount += 1\n"
   ]
  },
  {
   "cell_type": "code",
   "execution_count": 23,
   "metadata": {},
   "outputs": [
    {
     "name": "stdout",
     "output_type": "stream",
     "text": [
      "Rupali\n",
      "10\n",
      "20\n",
      "1\n",
      "Karan\n",
      "10\n",
      "22\n",
      "2\n",
      "2\n"
     ]
    }
   ],
   "source": [
    "e1 = Employee('Rupali', 10, 20)\n",
    "print e1.name\n",
    "print e1.salary\n",
    "print e1.age\n",
    "print e1.empCount\n",
    "\n",
    "e2 = Employee('Karan', 10, 22)\n",
    "print e2.name\n",
    "print e2.salary\n",
    "print e2.age\n",
    "print e1.empCount\n",
    "print Employee.empCount\n"
   ]
  }
 ],
 "metadata": {
  "kernelspec": {
   "display_name": "Python 2",
   "language": "python",
   "name": "python2"
  },
  "language_info": {
   "codemirror_mode": {
    "name": "ipython",
    "version": 2
   },
   "file_extension": ".py",
   "mimetype": "text/x-python",
   "name": "python",
   "nbconvert_exporter": "python",
   "pygments_lexer": "ipython2",
   "version": "2.7.15"
  }
 },
 "nbformat": 4,
 "nbformat_minor": 2
}
