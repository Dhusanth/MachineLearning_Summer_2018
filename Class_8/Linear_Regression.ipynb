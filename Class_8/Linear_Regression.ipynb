{
 "cells": [
  {
   "cell_type": "code",
   "execution_count": 1,
   "metadata": {},
   "outputs": [],
   "source": [
    "import numpy as np\n",
    "from matplotlib import pyplot as plt\n",
    "%matplotlib inline\n",
    "from sklearn.datasets import make_regression\n",
    "import seaborn as sns"
   ]
  },
  {
   "cell_type": "markdown",
   "metadata": {},
   "source": [
    "# Importing dataset"
   ]
  },
  {
   "cell_type": "code",
   "execution_count": 2,
   "metadata": {},
   "outputs": [
    {
     "name": "stdout",
     "output_type": "stream",
     "text": [
      "(500, 1) (500,) 29.333277509792588\n"
     ]
    },
    {
     "data": {
      "text/plain": [
       "'\\nX is points\\ny is corresponding values\\ncof = w1\\nbias = w0\\n'"
      ]
     },
     "execution_count": 2,
     "metadata": {},
     "output_type": "execute_result"
    }
   ],
   "source": [
    "X , y , cof = make_regression( n_samples = 500 , n_features = 1 , bias = 4.2 , noise = 7.1 , coef = True )\n",
    "print X.shape , y.shape , cof\n",
    "'''\n",
    "X is points\n",
    "y is corresponding values\n",
    "cof = w1\n",
    "bias = w0\n",
    "'''\n",
    "# W is sometimes referred to as Q (theta)\n",
    "#Always check shape while multiplying w and x its not that we will always take w transpose"
   ]
  },
  {
   "cell_type": "markdown",
   "metadata": {},
   "source": [
    "# Plotting Data"
   ]
  },
  {
   "cell_type": "code",
   "execution_count": 3,
   "metadata": {},
   "outputs": [
    {
     "data": {
      "text/plain": [
       "<matplotlib.collections.PathCollection at 0x11525a590>"
      ]
     },
     "execution_count": 3,
     "metadata": {},
     "output_type": "execute_result"
    },
    {
     "data": {
      "image/png": "[encoded data removed]",
      "text/plain": [
       "<Figure size 432x288 with 1 Axes>"
      ]
     },
     "metadata": {},
     "output_type": "display_data"
    }
   ],
   "source": [
    "#setting limits\n",
    "#plt.xlim(-200 , 200)\n",
    "#plt.ylim(-200 , 200)\n",
    "plt.scatter(X , y)"
   ]
  },
  {
   "cell_type": "markdown",
   "metadata": {},
   "source": [
    "# Splitting Data"
   ]
  },
  {
   "cell_type": "code",
   "execution_count": 4,
   "metadata": {},
   "outputs": [
    {
     "name": "stdout",
     "output_type": "stream",
     "text": [
      "(400, 1)\n",
      "(100, 1)\n",
      "--------------------\n",
      "(400,)\n",
      "(100,)\n"
     ]
    }
   ],
   "source": [
    "split = int(0.8 * X.shape[0])\n",
    "#print split\n",
    "\n",
    "X_train = X[:split]\n",
    "print X_train.shape \n",
    "#print X_train\n",
    "\n",
    "X_test = X[split:]\n",
    "print X_test.shape\n",
    "\n",
    "print '-'*20\n",
    "\n",
    "y_train = y[:split]\n",
    "print y_train.shape \n",
    "#print y_train\n",
    "\n",
    "y_test = y[split:]\n",
    "print y_test.shape"
   ]
  },
  {
   "cell_type": "markdown",
   "metadata": {},
   "source": [
    "# Functions ::--"
   ]
  },
  {
   "cell_type": "code",
   "execution_count": 5,
   "metadata": {},
   "outputs": [],
   "source": [
    "#Hypothesis Function \n",
    "def hypothesis(x , W):\n",
    "    return x*W[1] + W[0]\n",
    "\n",
    "#Gradient Descent Function\n",
    "#Updating Weights using grad_desc\n",
    "def grad_descent(x , y , w , learning_rate = 0.1):\n",
    "    error = get_error(x , y , w)\n",
    "    [grad00 , grad01] = get_grads(x , y , w)\n",
    "    \n",
    "    #Wenedto update weights\n",
    "    w[0] = w[0] - learning_rate*grad00\n",
    "    w[1] = w[1] - learning_rate*grad01\n",
    "    \n",
    "    return error , w\n",
    "\n",
    "#Error Function\n",
    "def get_error(x , y , w):\n",
    "    error = 0.0\n",
    "    \n",
    "    for i in range(x.shape[0]):\n",
    "        \n",
    "        error = error + (y[i] - hypothesis(x[i] , w))**2\n",
    "    #Mean error\n",
    "    error = error/(2*(x.shape[0]))#2 is multiplied for convienece in calculation cozwhen we take derivative 2 gets cancelled out\n",
    "    return error\n",
    "\n",
    "#Error Gradient\n",
    "def get_grads(x , y , w):\n",
    "    grad00 = 0.0\n",
    "    grad01 = 0.0\n",
    "    \n",
    "    for i in range(x.shape[0]):\n",
    "        grad00 = grad00 + (y[i] - hypothesis(x[i] , w))*(-1)#dl/dw0\n",
    "        grad01 = grad01 + (y[i] - hypothesis(x[i] , w))*(-1*x[i])#dl/dw1\n",
    "        \n",
    "    #Meangrads\n",
    "    \n",
    "    grad00 = grad00/(x.shape[0])\n",
    "    grad01 = grad01/(x.shape[0])\n",
    "    \n",
    "    return [grad00 , grad01]"
   ]
  },
  {
   "cell_type": "code",
   "execution_count": 6,
   "metadata": {},
   "outputs": [],
   "source": [
    "W = np.array([0.1 , 0.1])#Initialising Weights with any value\n",
    "loss = []"
   ]
  },
  {
   "cell_type": "code",
   "execution_count": 17,
   "metadata": {},
   "outputs": [
    {
     "data": {
      "image/png": "[encoded data removed]",
      "text/plain": [
       "<Figure size 432x288 with 1 Axes>"
      ]
     },
     "metadata": {},
     "output_type": "display_data"
    }
   ],
   "source": [
    "plt.scatter(X[: , 0] , y)\n",
    "\n",
    "#We want to points to plot a line \n",
    "\n",
    "'''What we are doing is that updating first fixing thw value of W in this case we have taken [0.1 , 0.1] and \n",
    "after that we are updating W\n",
    "what we predict is y = x*W[1] +w[0]\n",
    "and we imprive our predicted value by changing W or updating W\n",
    "\n",
    "'''\n",
    "#here we are using just 2points to draw. line where x ranges from -3 to 3\n",
    "y0 = hypothesis(-3 , W)\n",
    "y1 = hypothesis(3 , W)\n",
    "#print W\n",
    "\n",
    "plt.plot([-3 , 3] , [y0 , y1] , 'r*-')\n",
    "plt.show()\n",
    "\n",
    "l , W = grad_descent(X_train , y_train , W , learning_rate = 0.5)\n",
    "loss.append(l)\n",
    "\n",
    "#print loss"
   ]
  },
  {
   "cell_type": "code",
   "execution_count": 18,
   "metadata": {},
   "outputs": [
    {
     "data": {
      "image/png": "[encoded data removed]",
      "text/plain": [
       "<Figure size 432x288 with 1 Axes>"
      ]
     },
     "metadata": {},
     "output_type": "display_data"
    }
   ],
   "source": [
    "plt.plot(loss)\n",
    "plt.show()"
   ]
  },
  {
   "cell_type": "code",
   "execution_count": 28,
   "metadata": {},
   "outputs": [
    {
     "name": "stdout",
     "output_type": "stream",
     "text": [
      "[ 4.80581206 29.05843177]\n",
      "[2219.2967886]\n",
      "2306.948096433525\n",
      "[96.20055137]\n"
     ]
    }
   ],
   "source": [
    "print W\n",
    "\n",
    "ysum = 0\n",
    "Ysum = 0\n",
    "for i in range(X_test.shape[0]):\n",
    "    pred = hypothesis(X_test[i] , W)\n",
    "    if pred < 0:\n",
    "        pred = pred * (-1)\n",
    "    ysum = ysum + pred\n",
    "print ysum\n",
    "\n",
    "for y in range(y_test.shape[0]):\n",
    "    actual = y_test[y]\n",
    "    if actual < 0:\n",
    "        actual = actual * (-1)\n",
    "    Ysum = Ysum + actual\n",
    "print Ysum\n",
    "\n",
    "'''if ysum > Ysum:\n",
    "    acc = (ysum/Ysum) * 100\n",
    "else:\n",
    "    acc = (Ysum/ysum) * 100\n",
    "\n",
    "print acc'''\n",
    "acc = (ysum/Ysum) * 100\n",
    "print acc"
   ]
  },
  {
   "cell_type": "markdown",
   "metadata": {},
   "source": [
    "# Linear Regression using  SK-Learn Model"
   ]
  },
  {
   "cell_type": "code",
   "execution_count": 24,
   "metadata": {},
   "outputs": [],
   "source": [
    "from sklearn.linear_model import LinearRegression"
   ]
  },
  {
   "cell_type": "code",
   "execution_count": 25,
   "metadata": {},
   "outputs": [],
   "source": [
    "lr = LinearRegression()"
   ]
  },
  {
   "cell_type": "code",
   "execution_count": 26,
   "metadata": {},
   "outputs": [
    {
     "name": "stderr",
     "output_type": "stream",
     "text": [
      "/usr/local/lib/python2.7/site-packages/sklearn/linear_model/base.py:509: RuntimeWarning: internal gelsd driver lwork query error, required iwork dimension not returned. This is likely the result of LAPACK bug 0038, fixed in LAPACK 3.2.2 (released July 21, 2010). Falling back to 'gelss' driver.\n",
      "  linalg.lstsq(X, y)\n"
     ]
    },
    {
     "data": {
      "text/plain": [
       "LinearRegression(copy_X=True, fit_intercept=True, n_jobs=1, normalize=False)"
      ]
     },
     "execution_count": 26,
     "metadata": {},
     "output_type": "execute_result"
    }
   ],
   "source": [
    "lr.fit(X_train , y_train)"
   ]
  },
  {
   "cell_type": "code",
   "execution_count": 27,
   "metadata": {},
   "outputs": [
    {
     "data": {
      "text/plain": [
       "0.9328193755500025"
      ]
     },
     "execution_count": 27,
     "metadata": {},
     "output_type": "execute_result"
    }
   ],
   "source": [
    "lr.score(X_test , y_test)"
   ]
  },
  {
   "cell_type": "code",
   "execution_count": null,
   "metadata": {},
   "outputs": [],
   "source": []
  }
 ],
 "metadata": {
  "kernelspec": {
   "display_name": "Python 2",
   "language": "python",
   "name": "python2"
  },
  "language_info": {
   "codemirror_mode": {
    "name": "ipython",
    "version": 2
   },
   "file_extension": ".py",
   "mimetype": "text/x-python",
   "name": "python",
   "nbconvert_exporter": "python",
   "pygments_lexer": "ipython2",
   "version": "2.7.15"
  }
 },
 "nbformat": 4,
 "nbformat_minor": 2
}
