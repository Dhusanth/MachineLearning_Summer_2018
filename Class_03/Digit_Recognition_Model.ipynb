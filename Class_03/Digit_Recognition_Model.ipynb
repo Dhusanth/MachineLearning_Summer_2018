{
 "cells": [
  {
   "cell_type": "code",
   "execution_count": 1,
   "metadata": {},
   "outputs": [],
   "source": [
    "import numpy as np\n",
    "from matplotlib import pyplot as plt\n",
    "%matplotlib inline\n",
    "import cv2"
   ]
  },
  {
   "cell_type": "markdown",
   "metadata": {},
   "source": [
    "# Importing DataSet"
   ]
  },
  {
   "cell_type": "code",
   "execution_count": 2,
   "metadata": {},
   "outputs": [],
   "source": [
    "from sklearn.datasets import load_digits"
   ]
  },
  {
   "cell_type": "code",
   "execution_count": 3,
   "metadata": {},
   "outputs": [
    {
     "data": {
      "text/plain": [
       "(1797, 64)"
      ]
     },
     "execution_count": 3,
     "metadata": {},
     "output_type": "execute_result"
    }
   ],
   "source": [
    "load_digits(return_X_y=True)[0].shape\n",
    "#Remember this its format to check the shape of "
   ]
  },
  {
   "cell_type": "code",
   "execution_count": 4,
   "metadata": {},
   "outputs": [
    {
     "name": "stdout",
     "output_type": "stream",
     "text": [
      "(1797, 64) (1797,)\n",
      "(64,)\n"
     ]
    }
   ],
   "source": [
    "data = load_digits(return_X_y=True)\n",
    "X = data[0]\n",
    "y = data[1]\n",
    "\n",
    "print X.shape, y.shape\n",
    "print X[0].shape"
   ]
  },
  {
   "cell_type": "code",
   "execution_count": 5,
   "metadata": {},
   "outputs": [
    {
     "data": {
      "image/png": "[encoded data removed]",
      "text/plain": [
       "<Figure size 432x288 with 1 Axes>"
      ]
     },
     "metadata": {},
     "output_type": "display_data"
    }
   ],
   "source": [
    "plt.figure(0)\n",
    "plt.imshow(X[452].reshape((8,8)) , cmap='gray')#reshaping is being done otherwise u will encounter a dimension error\n",
    "#original dim was 64, so while reshaping we need to 2 number whose multiplivcation would be equal to 64\n",
    "#we can also take 16x4 or anything else consequently image shape will change accordingly\n",
    "plt.show()"
   ]
  },
  {
   "cell_type": "markdown",
   "metadata": {},
   "source": [
    "# Data Preparation"
   ]
  },
  {
   "cell_type": "code",
   "execution_count": 6,
   "metadata": {},
   "outputs": [
    {
     "name": "stdout",
     "output_type": "stream",
     "text": [
      "(1797, 65)\n"
     ]
    }
   ],
   "source": [
    "ds = np.concatenate((X , y.reshape((-1 ,1))) , axis=1)\n",
    "print ds.shape"
   ]
  },
  {
   "cell_type": "code",
   "execution_count": 7,
   "metadata": {},
   "outputs": [
    {
     "name": "stdout",
     "output_type": "stream",
     "text": [
      "(1500, 65)\n",
      "(297, 65)\n"
     ]
    }
   ],
   "source": [
    "train = ds[:1500]\n",
    "test = ds[1500:]\n",
    "\n",
    "print train.shape\n",
    "print test.shape"
   ]
  },
  {
   "cell_type": "code",
   "execution_count": 8,
   "metadata": {},
   "outputs": [],
   "source": [
    "def test_on_set(train , test , k=3):\n",
    "    \n",
    "    pred = []#empty list for predicted output\n",
    "    target = []#empty list for actual output\n",
    "    \n",
    "    #Iterating over each entry of testing\n",
    "    for i in range(test.shape[0]):\n",
    "        \n",
    "        out = knn(train , test[i , :-1], k=k)\n",
    "        #passing whole train data to train the model and one test entry to predict ouput\n",
    "        \n",
    "        pred.append(out)\n",
    "        target.append(test[i , -1])#last column is of label or actual output\n",
    "        \n",
    "    pred = np.asarray(pred)\n",
    "    target = np.asarray(target)\n",
    "    \n",
    "    \n",
    "    #ACCURACY CALCULATION\n",
    "    acc = float((pred == target).sum()) / len(pred)\n",
    "    return acc\n",
    "        \n",
    "        "
   ]
  },
  {
   "cell_type": "code",
   "execution_count": 9,
   "metadata": {},
   "outputs": [],
   "source": [
    "# KNN\n",
    "def knn(train , test , k = 5):\n",
    "    \n",
    "    dist = []\n",
    "    #train contains our data\n",
    "    #we will iterate over each row of the data\n",
    "    for i in range(train.shape[0]):\n",
    "        \n",
    "        #Getting the point(vector) and label\n",
    "        ix = train[i , :-1]#all columns except last column\n",
    "        iy = train[i , -1]#only last column\n",
    "        \n",
    "        #compute distance of test point with every point in the train data\n",
    "        \n",
    "        d = distance(ix , test)\n",
    "        \n",
    "        #we are maintaing a list named distance in which we are appending \n",
    "        #distances of test point with every other point\n",
    "        #iy(label) is been used to know that distance is with which point \n",
    "        dist.append([d , iy])\n",
    "    \n",
    "    #we are done with distance computation part\n",
    "    #next step is sorting\n",
    "    \n",
    "    sorted_distance = sorted(dist , key=lambda x:x[0])[:k]\n",
    "    #distance has been sorted according to x[0] of distance list which has distance\n",
    "    #[:k] means taking first k values of that list or we can say taking the k nearest neighbours\n",
    "    \n",
    "    #getting labels\n",
    "    labels = np.array(sorted_distance)[: , -1]\n",
    "    \n",
    "    #checking the frequency of labels \n",
    "    freq = np.unique(labels , return_counts = True)\n",
    "    \n",
    "    \n",
    "    #find max frequency and its label\n",
    "    index = np.argmax(freq[1])\n",
    "    return freq[0][index]\n",
    "\n",
    "#Eucledian Distance\n",
    "#here the distance is being calculated using vectors which is easy and convienent\n",
    "def distance(v1 , v2):\n",
    "    return np.sqrt(((v1-v2)**2).sum())\n",
    "        "
   ]
  },
  {
   "cell_type": "code",
   "execution_count": 10,
   "metadata": {},
   "outputs": [],
   "source": [
    "#Calculating accuracies for different values of k\n",
    "accs = []\n",
    "ks = [1 , 2 , 3 , 4 , 5 , 6 , 7 , 8 , 9 , 10 , 11 , 12 , 13 , 14 , 15]\n",
    "\n",
    "for kx in ks:\n",
    "    acx = test_on_set(train, test, k=kx)\n",
    "    accs.append(acx)\n"
   ]
  },
  {
   "cell_type": "code",
   "execution_count": 11,
   "metadata": {},
   "outputs": [
    {
     "data": {
      "text/plain": [
       "[<matplotlib.lines.Line2D at 0x117da1ad0>]"
      ]
     },
     "execution_count": 11,
     "metadata": {},
     "output_type": "execute_result"
    },
    {
     "data": {
      "image/png": "[encoded data removed]",
      "text/plain": [
       "<Figure size 432x288 with 1 Axes>"
      ]
     },
     "metadata": {},
     "output_type": "display_data"
    }
   ],
   "source": [
    "#Plotting Accuracies\n",
    "plt.plot(accs)"
   ]
  }
 ],
 "metadata": {
  "kernelspec": {
   "display_name": "Python 2",
   "language": "python",
   "name": "python2"
  },
  "language_info": {
   "codemirror_mode": {
    "name": "ipython",
    "version": 2
   },
   "file_extension": ".py",
   "mimetype": "text/x-python",
   "name": "python",
   "nbconvert_exporter": "python",
   "pygments_lexer": "ipython2",
   "version": "2.7.15"
  }
 },
 "nbformat": 4,
 "nbformat_minor": 2
}
