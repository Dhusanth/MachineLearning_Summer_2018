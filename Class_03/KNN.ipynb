{
 "cells": [
  {
   "cell_type": "code",
   "execution_count": 1,
   "metadata": {},
   "outputs": [],
   "source": [
    "import numpy as np\n",
    "import pandas as pd\n",
    "from matplotlib import pyplot as plt\n",
    "%matplotlib inline\n",
    "import cv2"
   ]
  },
  {
   "cell_type": "markdown",
   "metadata": {},
   "source": [
    "# GENERATING DATA"
   ]
  },
  {
   "cell_type": "code",
   "execution_count": 2,
   "metadata": {},
   "outputs": [],
   "source": [
    "#Defining mean & variances to generate data\n",
    "mean1 = np.array([0 , 1])\n",
    "mean2 = np.array([5 , 5])\n",
    "\n",
    "cov1 = np.array([[0 , 1] , [1 , 0]])\n",
    "cov2 = np.array([[0 , 1] , [1 , 0]])"
   ]
  },
  {
   "cell_type": "code",
   "execution_count": 3,
   "metadata": {},
   "outputs": [
    {
     "name": "stdout",
     "output_type": "stream",
     "text": [
      "(250, 2)\n",
      "(250, 2)\n"
     ]
    },
    {
     "name": "stderr",
     "output_type": "stream",
     "text": [
      "/usr/local/lib/python2.7/site-packages/ipykernel_launcher.py:1: RuntimeWarning: covariance is not positive-semidefinite.\n",
      "  \"\"\"Entry point for launching an IPython kernel.\n",
      "/usr/local/lib/python2.7/site-packages/ipykernel_launcher.py:2: RuntimeWarning: covariance is not positive-semidefinite.\n",
      "  \n"
     ]
    }
   ],
   "source": [
    "data1 = np.random.multivariate_normal(mean1 , cov1 , 250)\n",
    "data2 = np.random.multivariate_normal(mean2 , cov2 , 250)\n",
    "print data1.shape\n",
    "print data2.shape"
   ]
  },
  {
   "cell_type": "code",
   "execution_count": 4,
   "metadata": {},
   "outputs": [
    {
     "data": {
      "image/png": "[encoded data removed]",
      "text/plain": [
       "<Figure size 432x288 with 1 Axes>"
      ]
     },
     "metadata": {},
     "output_type": "display_data"
    }
   ],
   "source": [
    "plt.figure(0)\n",
    "plt.scatter(data1[: , 0] , data1[: , 1])\n",
    "plt.scatter(data2[: , 0] , data2[: , 1])\n",
    "plt.show()"
   ]
  },
  {
   "cell_type": "markdown",
   "metadata": {},
   "source": [
    "# Problem Statement\n",
    "Given the bunch of clusters and which class/category each point belongs to, can you predict in which class will any given point lie?"
   ]
  },
  {
   "cell_type": "markdown",
   "metadata": {},
   "source": [
    "# ALGO\n",
    "'''\n",
    "\n",
    "\n",
    "1. GET (X,Y) DATA\n",
    "2. GET TEST POINT x\n",
    "3. COMPUTE DISTANCE OF x FROM ALL POINTS xi belonging to X i.e D = [d1 ... dn]\n",
    "4. SORT D\n",
    "5. TAKE K DISTANCES FROM D [Dk = topk FROM SORTED D]\n",
    "6. FIND FREQUENCY OF CLASSES[i.e. find which how many points belongs to a particular class]\n",
    "'''"
   ]
  },
  {
   "cell_type": "markdown",
   "metadata": {},
   "source": [
    "# We have two datasets and we need only one so we need to concatenate them"
   ]
  },
  {
   "cell_type": "code",
   "execution_count": 5,
   "metadata": {},
   "outputs": [
    {
     "name": "stdout",
     "output_type": "stream",
     "text": [
      "(500, 2)\n"
     ]
    }
   ],
   "source": [
    "datax = np.concatenate((data1 , data2) , axis = 0)#axis 0 mean along rows\n",
    "print datax.shape"
   ]
  },
  {
   "cell_type": "markdown",
   "metadata": {},
   "source": [
    "# Now we also need labels which will tell the class to which the point belongs to as there are 2 classes we'll generate an array of 500 rows and 1 column having half of the rows as 1 label and another halfas another label [Eg: 250 rows 0 and 250 rows 1]"
   ]
  },
  {
   "cell_type": "code",
   "execution_count": 6,
   "metadata": {},
   "outputs": [],
   "source": [
    "datay = np.zeros((500 , 1))\n",
    "datay[250 : ] = 1 \n",
    "#Now first 250 rows has 0 value and last 250 rows has 1"
   ]
  },
  {
   "cell_type": "markdown",
   "metadata": {},
   "source": [
    "# We'll also concatenate this labels to the data"
   ]
  },
  {
   "cell_type": "code",
   "execution_count": 7,
   "metadata": {},
   "outputs": [
    {
     "name": "stdout",
     "output_type": "stream",
     "text": [
      "(500, 3)\n"
     ]
    }
   ],
   "source": [
    "data = np.concatenate((datax , datay) , axis=1)#axis 1 means along columns\n",
    "print data.shape"
   ]
  },
  {
   "cell_type": "code",
   "execution_count": 8,
   "metadata": {},
   "outputs": [],
   "source": [
    "def knn(train , test , k = 5):\n",
    "    \n",
    "    dist = []\n",
    "    #train contains our data\n",
    "    #we will iterate over each row of the data\n",
    "    for i in range(train.shape[0]):\n",
    "        \n",
    "        #Getting the point(vector) and label\n",
    "        ix = train[i , :-1]#all columns except last column\n",
    "        iy = train[i , -1]#only last column\n",
    "        \n",
    "        #compute distance of test point with every point in the train data\n",
    "        \n",
    "        d = distance(ix , test)\n",
    "        \n",
    "        #we are maintaing a list named distance in which we are appending \n",
    "        #distances of test point with every other point\n",
    "        #iy(label) is been used to know that distance is with which point \n",
    "        dist.append([d , iy])\n",
    "    \n",
    "    #we are done with distance computation part\n",
    "    #next step is sorting\n",
    "    \n",
    "    sorted_distance = sorted(dist , key=lambda x:x[0])[:k]\n",
    "    #distance has been sorted according to x[0] of distance list which has distance\n",
    "    #[:k] means taking first k values of that list or we can say taking the k nearest neighbours\n",
    "    \n",
    "    #getting labels\n",
    "    labels = np.array(sorted_distance)[: , -1]\n",
    "    \n",
    "    #checking the frequency of labels \n",
    "    freq = np.unique(labels , return_counts = True)\n",
    "    \n",
    "    \n",
    "    #find max frequency and its label\n",
    "    index = np.argmax(freq[1])\n",
    "    return freq[0][index]\n",
    "\n",
    "#Eucledian Distance\n",
    "#here the distance is being calculated using vectors which is easy and convienent\n",
    "def distance(v1 , v2):\n",
    "    return np.sqrt(((v1-v2)**2).sum())\n",
    "        \n",
    "        \n",
    "        \n",
    "    "
   ]
  },
  {
   "cell_type": "code",
   "execution_count": 9,
   "metadata": {},
   "outputs": [
    {
     "name": "stdout",
     "output_type": "stream",
     "text": [
      "1.0\n"
     ]
    }
   ],
   "source": [
    "x = np.array([6.0 , 6.0])\n",
    "print knn(data , x )"
   ]
  },
  {
   "cell_type": "code",
   "execution_count": 10,
   "metadata": {},
   "outputs": [
    {
     "name": "stdout",
     "output_type": "stream",
     "text": [
      "0.0\n"
     ]
    }
   ],
   "source": [
    "x = np.array([2.0 , 2.0])\n",
    "print knn(data , x )"
   ]
  }
 ],
 "metadata": {
  "kernelspec": {
   "display_name": "Python 2",
   "language": "python",
   "name": "python2"
  },
  "language_info": {
   "codemirror_mode": {
    "name": "ipython",
    "version": 2
   },
   "file_extension": ".py",
   "mimetype": "text/x-python",
   "name": "python",
   "nbconvert_exporter": "python",
   "pygments_lexer": "ipython2",
   "version": "2.7.15"
  }
 },
 "nbformat": 4,
 "nbformat_minor": 2
}
